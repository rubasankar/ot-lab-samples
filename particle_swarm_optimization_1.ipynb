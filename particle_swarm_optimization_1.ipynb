{
 "cells": [
  {
   "cell_type": "markdown",
   "metadata": {},
   "source": [
    "## Particle Swarm Optimization"
   ]
  },
  {
   "cell_type": "markdown",
   "metadata": {},
   "source": [
    "### Particle Class and PSO implementation"
   ]
  },
  {
   "cell_type": "code",
   "execution_count": null,
   "metadata": {},
   "outputs": [],
   "source": [
    "import numpy as np\n",
    "import matplotlib.pyplot as plt\n",
    "\n",
    "class Particle:\n",
    "    def __init__(self, fitness, dim, minx, maxx, seed):\n",
    "        np.random.seed(seed)\n",
    "        self.pos = (maxx - minx) *np.random.rand(dim) + minx\n",
    "        self.vel = (maxx - minx) *np.random.rand(dim) + minx\n",
    "        self.fitness = fitness(self.pos)\n",
    "        self.best_pos = np.copy(self.pos)\n",
    "        self.best_fitness = self.fitness\n",
    "\n",
    "def pso(fitness, max_iter, n, dim, minx, maxx, w, c1, c2):\n",
    "    swarm = [Particle(fitness, dim, minx, maxx, i) for i in range(n)]\n",
    "    best_particle = min(swarm,key=lambda x: x.fitness)\n",
    "    swarm_best_pos = np.copy(best_particle.pos)\n",
    "    swarm_best_fitness  = best_particle.fitness\n",
    "    swarm_best_pos_track = [swarm_best_pos]\n",
    "    for iter in range(max_iter):\n",
    "        if iter % 10 == 0:\n",
    "            print(f\"{iter} > best fitness = {swarm_best_fitness:.4e} Best position: {swarm_best_pos}\")\n",
    "\n",
    "        for particle in swarm:\n",
    "            r1,r2 = np.random.rand(2)\n",
    "            particle.vel = (\n",
    "                (w * particle.vel) +\n",
    "                (c1 * r1 * (particle.best_pos - particle.pos)) +\n",
    "                (c2 * r2 * (swarm_best_pos - particle.pos))\n",
    "            )\n",
    "            particle.vel = np.clip(particle.vel,minx,maxx)\n",
    "            particle.pos += particle.vel\n",
    "            particle.fitness = fitness(particle.pos)\n",
    "            if particle.fitness < particle.best_fitness:\n",
    "                particle.best_fitness = particle.fitness\n",
    "                particle.best_pos = np.copy(particle.pos)\n",
    "            if particle.fitness < swarm_best_fitness:\n",
    "                swarm_best_fitness = particle.fitness\n",
    "                swarm_best_pos = np.copy(particle.pos)\n",
    "                swarm_best_pos_track.append(swarm_best_pos)\n",
    "    \n",
    "    print(\"\\nBest solution found:\")\n",
    "    print(swarm_best_pos)\n",
    "    print(f\"fitness of best solution = {swarm_best_fitness:.4e}\")\n",
    "\n",
    "    return swarm_best_pos, swarm_best_pos_track"
   ]
  },
  {
   "cell_type": "code",
   "execution_count": null,
   "metadata": {},
   "outputs": [],
   "source": [
    "def plot_optimization(fitness,minx,maxx,best_pos_track):\n",
    "    x = np.linspace(minx,maxx,300)\n",
    "    X1,X2 = np.meshgrid(x,x)\n",
    "    X = np.dstack([X1,X2])\n",
    "    Y = np.apply_along_axis(fitness,-1,X)\n",
    "    plt.figure(figsize=(10,10))\n",
    "    plt.contourf(X1,X2,Y,levels=25,cmap=\"Blues\")\n",
    "    x,y = np.array(best_pos_track).T\n",
    "    plt.plot(x,y,\"r\")\n",
    "    plt.plot(*best_pos_track[0],\"o\",label=\"start\")\n",
    "    plt.plot(*best_pos_track[-1],\"X\",label=\"end\")\n",
    "    plt.legend()\n",
    "    plt.show()"
   ]
  },
  {
   "cell_type": "code",
   "execution_count": null,
   "metadata": {},
   "outputs": [],
   "source": [
    "np.set_printoptions(precision=6,suppress=True)        \n",
    "\n",
    "w = 0.729 # inertia\n",
    "c1 = 1.49445 # cognitive (particle)\n",
    "c2 = 1.49445 # social (swarm)\n",
    "\n",
    "dim = 2\n",
    "num_particles = 50\n",
    "max_iter = 100\n",
    "minx, maxx = -10.0, 10.0"
   ]
  },
  {
   "cell_type": "markdown",
   "metadata": {},
   "source": [
    "### PSO for Rastrigin Function"
   ]
  },
  {
   "cell_type": "code",
   "execution_count": null,
   "metadata": {},
   "outputs": [],
   "source": [
    "def fitness_rastrigin(x):\n",
    "    x = np.array(x)\n",
    "    return 10*x.shape[0] + np.sum(x**2 - 10 * np.cos(2*np.pi*x))\n",
    "\n",
    "best_position,best_pos_track = pso(fitness_rastrigin, max_iter, num_particles, dim,minx ,maxx, w,c1,c2)"
   ]
  },
  {
   "cell_type": "code",
   "execution_count": null,
   "metadata": {},
   "outputs": [],
   "source": [
    "plot_optimization(fitness_rastrigin,-5,5,best_pos_track)"
   ]
  },
  {
   "cell_type": "markdown",
   "metadata": {},
   "source": [
    "### PSO for Sphere Function"
   ]
  },
  {
   "cell_type": "code",
   "execution_count": null,
   "metadata": {},
   "outputs": [],
   "source": [
    "def fitness_sphere(x):\n",
    "    x = np.array(x)\n",
    "    return np.sum(x**2)\n",
    "\n",
    "best_position, best_pos_track = pso(fitness_sphere, max_iter, num_particles, dim, -10.0, 10.0, w,c1,c2)"
   ]
  },
  {
   "cell_type": "code",
   "execution_count": null,
   "metadata": {},
   "outputs": [],
   "source": [
    "plot_optimization(fitness_sphere,-5,5,best_pos_track)"
   ]
  },
  {
   "cell_type": "code",
   "execution_count": null,
   "metadata": {},
   "outputs": [],
   "source": []
  }
 ],
 "metadata": {
  "kernelspec": {
   "display_name": "Python 3.10.7 64-bit",
   "language": "python",
   "name": "python3"
  },
  "language_info": {
   "codemirror_mode": {
    "name": "ipython",
    "version": 3
   },
   "file_extension": ".py",
   "mimetype": "text/x-python",
   "name": "python",
   "nbconvert_exporter": "python",
   "pygments_lexer": "ipython3",
   "version": "3.10.7"
  },
  "orig_nbformat": 4,
  "vscode": {
   "interpreter": {
    "hash": "26de051ba29f2982a8de78e945f0abaf191376122a1563185a90213a26c5da77"
   }
  }
 },
 "nbformat": 4,
 "nbformat_minor": 2
}
