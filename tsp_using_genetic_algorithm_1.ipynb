{
 "cells": [
  {
   "cell_type": "code",
   "execution_count": 1,
   "metadata": {},
   "outputs": [],
   "source": [
    "import numpy as np\n",
    "import networkx as nx\n",
    "from itertools import combinations"
   ]
  },
  {
   "cell_type": "code",
   "execution_count": 2,
   "metadata": {},
   "outputs": [],
   "source": [
    "def generate_random_weighted_graph(n,low,high):\n",
    "    g = nx.generators.complete_graph(n)\n",
    "    g.add_weighted_edges_from([(a,b,np.random.randint(low,high)) for a,b in g.edges()])\n",
    "    return g\n"
   ]
  },
  {
   "cell_type": "code",
   "execution_count": 3,
   "metadata": {},
   "outputs": [],
   "source": [
    "np.random.seed(3)\n",
    "g = generate_random_weighted_graph(7,1,20)"
   ]
  },
  {
   "cell_type": "markdown",
   "metadata": {},
   "source": [
    "### Intialization"
   ]
  },
  {
   "cell_type": "markdown",
   "metadata": {},
   "source": [
    "#### Nearest Neighbour Initialization"
   ]
  },
  {
   "cell_type": "code",
   "execution_count": 4,
   "metadata": {},
   "outputs": [],
   "source": [
    "def nearest_neighbour_initialization(g,closed_tour=False):\n",
    "    curr_node = np.random.choice(g.nodes) \n",
    "    path = [curr_node]\n",
    "    not_visited = set(g.nodes)-{curr_node}\n",
    "    while not_visited:\n",
    "        not_visited_neighbours = not_visited&set(g.neighbors(curr_node))\n",
    "        key =lambda x: g[curr_node][x][\"weight\"]\n",
    "        curr_node = min(not_visited_neighbours,key = key) \n",
    "        path.append(curr_node)\n",
    "        not_visited.remove(curr_node)\n",
    "    if closed_tour:\n",
    "        path.append(path[0])\n",
    "    return path"
   ]
  },
  {
   "cell_type": "code",
   "execution_count": 5,
   "metadata": {},
   "outputs": [
    {
     "data": {
      "text/plain": [
       "[5, 1, 4, 0, 2, 6, 3]"
      ]
     },
     "execution_count": 5,
     "metadata": {},
     "output_type": "execute_result"
    }
   ],
   "source": [
    "nearest_neighbour_initialization(g)"
   ]
  },
  {
   "cell_type": "markdown",
   "metadata": {},
   "source": [
    "#### Shortest edge intialization"
   ]
  },
  {
   "cell_type": "code",
   "execution_count": 6,
   "metadata": {},
   "outputs": [],
   "source": [
    "from collections import defaultdict"
   ]
  },
  {
   "cell_type": "code",
   "execution_count": 7,
   "metadata": {},
   "outputs": [],
   "source": [
    "def has_cycle(g):\n",
    "    try:\n",
    "        nx.find_cycle(g)\n",
    "    except nx.NetworkXNoCycle:\n",
    "        return False\n",
    "    return True\n",
    "\n",
    "def get_path_from_edges(edges,closed_tour=False):\n",
    "    path_graph = nx.Graph(edges)\n",
    "    curr = min(path_graph.nodes,key=path_graph.degree) \n",
    "    path,visited = [curr],{curr}\n",
    "    while len(path)<len(path_graph):\n",
    "        curr = (set(path_graph.neighbors(curr))-visited).pop()\n",
    "        visited.add(curr)\n",
    "        path.append(curr)\n",
    "    if closed_tour:\n",
    "        path.append(path[0])\n",
    "    return path"
   ]
  },
  {
   "cell_type": "code",
   "execution_count": 8,
   "metadata": {},
   "outputs": [],
   "source": [
    "def shortest_edge_initialization(g,method=\"greedy\", closed_tour = False):\n",
    "    edge_list = set(g.edges)\n",
    "    times_visited  = defaultdict(int)\n",
    "    tour = set() \n",
    "    max_tour_len = len(g) if closed_tour else len(g)-1\n",
    "    key = nx.get_edge_attributes(g,\"weight\").get\n",
    "    while len(tour)<max_tour_len:\n",
    "       u,v = min(edge_list, key=key)\n",
    "       times_visited[u]+=1\n",
    "       times_visited[v]+=1\n",
    "       tour.add((u,v))\n",
    "       edge_list.remove((u,v))\n",
    "       for u,v in set(edge_list):\n",
    "            if (\n",
    "                (has_cycle(nx.Graph(tour|{(u,v)})) and len(tour) != len(g)-1)\n",
    "                or times_visited[u] ==2 or times_visited[v] ==2\n",
    "\n",
    "            ):\n",
    "                edge_list.remove((u,v))\n",
    "\n",
    "    return get_path_from_edges(tour,closed_tour=closed_tour)"
   ]
  },
  {
   "cell_type": "code",
   "execution_count": 9,
   "metadata": {},
   "outputs": [
    {
     "data": {
      "text/plain": [
       "[3, 4, 0, 2, 6, 5, 1]"
      ]
     },
     "execution_count": 9,
     "metadata": {},
     "output_type": "execute_result"
    }
   ],
   "source": [
    "shortest_edge_initialization(g)"
   ]
  },
  {
   "cell_type": "markdown",
   "metadata": {},
   "source": [
    "### Cross over"
   ]
  },
  {
   "cell_type": "markdown",
   "metadata": {},
   "source": [
    "#### Partially Matched Crossover"
   ]
  },
  {
   "cell_type": "code",
   "execution_count": 10,
   "metadata": {},
   "outputs": [],
   "source": [
    "def make_valid_tour(p,nodes):\n",
    "    unvisited = set(nodes)-set(p)\n",
    "    indices = defaultdict(list)\n",
    "    for i in range(len(p)):\n",
    "        indices[p[i]].append(i)\n",
    "    visited_twice = {node for node in indices if len(indices[node])==2}\n",
    "    for node in visited_twice:\n",
    "        change_index = np.random.choice(indices[node])\n",
    "        p[change_index] = unvisited.pop()\n",
    "    return p\n",
    "\n",
    "def partially_matched_crossover(p1,p2):\n",
    "    pt = np.random.randint(1,len(p1)-1) # crossover point\n",
    "    c1 = p1[:pt] + p2[pt:]\n",
    "    c2 = p2[:pt] + p1[pt:]\n",
    "    nodes = set(p1)\n",
    "    return make_valid_tour(c1,nodes),make_valid_tour(c2,nodes)"
   ]
  },
  {
   "cell_type": "code",
   "execution_count": 11,
   "metadata": {},
   "outputs": [
    {
     "name": "stdout",
     "output_type": "stream",
     "text": [
      "([1, 4, 0, 2, 6, 5, 3], [0, 1, 4, 2, 6, 5, 3])\n"
     ]
    }
   ],
   "source": [
    "parents=[[1, 2, 0, 4, 6, 5, 3], [0, 1, 4, 2, 6, 5, 3]]\n",
    "print(partially_matched_crossover(*parents))"
   ]
  },
  {
   "cell_type": "markdown",
   "metadata": {},
   "source": [
    "#### Order Crossover"
   ]
  },
  {
   "cell_type": "code",
   "execution_count": 12,
   "metadata": {},
   "outputs": [],
   "source": [
    "def order_crossover(p1,p2):\n",
    "    start = np.random.randint(0,len(p1)-1)\n",
    "    end = np.random.randint(start+1,len(p1) if start !=0 else len(p1)-1)\n",
    "    def fill_blanks(p1,p2,s,e):        \n",
    "        unvisited_nodes = p2.copy()\n",
    "        for node in p1[s:e]:\n",
    "            unvisited_nodes.remove(node)\n",
    "        c = p1.copy()\n",
    "        for i in range(len(p1)):\n",
    "            if i<s or i>=e:\n",
    "                c[i] = unvisited_nodes.pop(0)\n",
    "        return c\n",
    "\n",
    "    c1 = fill_blanks(p1,p2,start,end)\n",
    "    c2 = fill_blanks(p2,p1,start,end)\n",
    "    return c1,c2"
   ]
  },
  {
   "cell_type": "code",
   "execution_count": 13,
   "metadata": {},
   "outputs": [
    {
     "data": {
      "text/plain": [
       "([1, 2, 0, 4, 6, 5, 3], [0, 1, 4, 2, 6, 5, 3])"
      ]
     },
     "execution_count": 13,
     "metadata": {},
     "output_type": "execute_result"
    }
   ],
   "source": [
    "order_crossover(*parents)"
   ]
  },
  {
   "cell_type": "markdown",
   "metadata": {},
   "source": [
    "### Mutation"
   ]
  },
  {
   "cell_type": "markdown",
   "metadata": {},
   "source": [
    "#### Inversion"
   ]
  },
  {
   "cell_type": "code",
   "execution_count": 14,
   "metadata": {},
   "outputs": [],
   "source": [
    "def inversion_mutation(p):\n",
    "    start = np.random.randint(0,len(p)-1)\n",
    "    end = np.random.randint(start+1,len(p)+1)\n",
    "    subtour = p[start:end]\n",
    "    c = p.copy()\n",
    "    for i in range(start,end):\n",
    "        c[i] = subtour.pop()\n",
    "    return c"
   ]
  },
  {
   "cell_type": "code",
   "execution_count": 15,
   "metadata": {},
   "outputs": [
    {
     "data": {
      "text/plain": [
       "[2, 3, 1, 4, 0, 6, 5]"
      ]
     },
     "execution_count": 15,
     "metadata": {},
     "output_type": "execute_result"
    }
   ],
   "source": [
    "p=[2, 0, 4, 1, 3, 6, 5]\n",
    "inversion_mutation(p)"
   ]
  },
  {
   "cell_type": "markdown",
   "metadata": {},
   "source": [
    "#### Insertion"
   ]
  },
  {
   "cell_type": "code",
   "execution_count": 16,
   "metadata": {},
   "outputs": [],
   "source": [
    "def insertion_mutation(p):\n",
    "    i = np.random.randint(1,len(p))\n",
    "    k = np.random.randint(0,len(p)-1)\n",
    "    c = p.copy()\n",
    "    c.insert(k,c.pop(i))\n",
    "    return c"
   ]
  },
  {
   "cell_type": "code",
   "execution_count": 17,
   "metadata": {},
   "outputs": [
    {
     "data": {
      "text/plain": [
       "[2, 4, 1, 3, 6, 0, 5]"
      ]
     },
     "execution_count": 17,
     "metadata": {},
     "output_type": "execute_result"
    }
   ],
   "source": [
    "insertion_mutation(p)"
   ]
  },
  {
   "cell_type": "code",
   "execution_count": null,
   "metadata": {},
   "outputs": [],
   "source": []
  }
 ],
 "metadata": {
  "kernelspec": {
   "display_name": "Python 3.10.7 64-bit",
   "language": "python",
   "name": "python3"
  },
  "language_info": {
   "codemirror_mode": {
    "name": "ipython",
    "version": 3
   },
   "file_extension": ".py",
   "mimetype": "text/x-python",
   "name": "python",
   "nbconvert_exporter": "python",
   "pygments_lexer": "ipython3",
   "version": "3.10.7"
  },
  "orig_nbformat": 4,
  "vscode": {
   "interpreter": {
    "hash": "26de051ba29f2982a8de78e945f0abaf191376122a1563185a90213a26c5da77"
   }
  }
 },
 "nbformat": 4,
 "nbformat_minor": 2
}
