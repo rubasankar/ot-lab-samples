{
 "cells": [
  {
   "cell_type": "code",
   "execution_count": null,
   "metadata": {},
   "outputs": [],
   "source": [
    "import numpy as np\n",
    "import networkx as nx\n",
    "import matplotlib.pyplot as plt\n",
    "from itertools import combinations"
   ]
  },
  {
   "cell_type": "code",
   "execution_count": null,
   "metadata": {},
   "outputs": [],
   "source": [
    "def generate_random_weighted_graph(n,low,high):\n",
    "    g = nx.generators.complete_graph(n)\n",
    "    # add random weights to the graph\n",
    "    g.add_weighted_edges_from([(a,b,np.random.randint(low,high)) for a,b in g.edges()])\n",
    "    # creare layout fro plotting and set pos as attribute\n",
    "    nx.set_node_attributes(g,nx.spring_layout(g),\"pos\") \n",
    "    return g\n",
    "\n",
    "def plot_graph(g,title=\"\",highlight_edges=[]):\n",
    "    pos = nx.get_node_attributes(g,\"pos\")\n",
    "    plt.figure(figsize=(17,17))\n",
    "    plt.title(title)\n",
    "    nx.draw(g,pos=pos,labels = {x:x for x in g.nodes},width=2)\n",
    "    weights = nx.get_edge_attributes(g,\"weight\")\n",
    "    # draw labels for edges\n",
    "    nx.draw_networkx_edge_labels(g,pos,edge_labels=weights,label_pos=.4);\n",
    "    \n",
    "    # highlight highlighted_edges\n",
    "    nx.draw_networkx_edges(g,pos,edgelist = highlight_edges,edge_color=\"r\",width=3)\n",
    "    # highlight labels of highlighted edges\n",
    "    nx.draw_networkx_edge_labels(\n",
    "        g,pos,\n",
    "        edge_labels={\n",
    "            e:w \n",
    "            for e,w in weights.items() \n",
    "            if e in map(lambda x:tuple(sorted(x)),highlight_edges)\n",
    "        },\n",
    "        font_color=\"r\",\n",
    "        label_pos=.4\n",
    "    )\n",
    "    plt.show()"
   ]
  },
  {
   "cell_type": "code",
   "execution_count": null,
   "metadata": {},
   "outputs": [],
   "source": [
    "np.random.seed(3)\n",
    "g = generate_random_weighted_graph(7,1,20)\n",
    "plot_graph(g,\"Graph for TSP\")"
   ]
  },
  {
   "cell_type": "code",
   "execution_count": null,
   "metadata": {},
   "outputs": [],
   "source": [
    "print(list(g))"
   ]
  },
  {
   "cell_type": "markdown",
   "metadata": {},
   "source": [
    "## Initialization"
   ]
  },
  {
   "cell_type": "markdown",
   "metadata": {},
   "source": [
    "Helper function for stochastic initialization"
   ]
  },
  {
   "cell_type": "code",
   "execution_count": null,
   "metadata": {},
   "outputs": [],
   "source": [
    "def select_stochastic(a,key,inverse=True):\n",
    "    a = list(a)\n",
    "    probs = np.array(list(map(key,a)))\n",
    "    if inverse:\n",
    "        probs = 1/np.array(probs)\n",
    "    probs = probs/probs.sum()\n",
    "    return type(a[0])(a[np.random.choice(len(a),p=probs)])"
   ]
  },
  {
   "cell_type": "markdown",
   "metadata": {},
   "source": [
    "### Nearest Neighbour initialization"
   ]
  },
  {
   "cell_type": "code",
   "execution_count": null,
   "metadata": {},
   "outputs": [],
   "source": [
    "def nearest_neighbour_initialization(g,method = \"greedy\", closed_tour=False):\n",
    "    curr_node = np.random.choice(g.nodes) \n",
    "    path = [curr_node]\n",
    "    not_visited = set(g.nodes)-{curr_node}\n",
    "    while not_visited:\n",
    "        not_visited_neighbours = not_visited&set(g.neighbors(curr_node))\n",
    "        key =lambda x: g[curr_node][x][\"weight\"]\n",
    "        if method==\"greedy\":\n",
    "            curr_node = min(not_visited_neighbours,key = key) \n",
    "        elif method == \"stochastic\":\n",
    "            curr_node = select_stochastic(not_visited_neighbours,key = key, inverse= True)\n",
    "        path.append(curr_node)\n",
    "        not_visited.remove(curr_node)\n",
    "    # closing the loop if necessary\n",
    "    if closed_tour:\n",
    "        path.append(path[0])\n",
    "    return path"
   ]
  },
  {
   "cell_type": "code",
   "execution_count": null,
   "metadata": {},
   "outputs": [],
   "source": [
    "np.random.seed(1)\n",
    "print(nearest_neighbour_initialization(g,method=\"greedy\"))\n",
    "print(nearest_neighbour_initialization(g,method=\"greedy\",closed_tour=True))\n",
    "print(nearest_neighbour_initialization(g,method=\"stochastic\"))\n",
    "print(nearest_neighbour_initialization(g,method=\"stochastic\",closed_tour=True))"
   ]
  },
  {
   "cell_type": "markdown",
   "metadata": {},
   "source": [
    "### Shortest Edge Initialization"
   ]
  },
  {
   "cell_type": "code",
   "execution_count": null,
   "metadata": {},
   "outputs": [],
   "source": [
    "from collections import defaultdict"
   ]
  },
  {
   "cell_type": "code",
   "execution_count": null,
   "metadata": {},
   "outputs": [],
   "source": [
    "def has_cycle(g):\n",
    "    try:\n",
    "        nx.find_cycle(g)\n",
    "    except nx.NetworkXNoCycle:\n",
    "        return False\n",
    "    return True\n",
    "\n",
    "def get_path_from_edges(edges,closed_tour=False):\n",
    "    path_graph = nx.Graph(edges)\n",
    "    # if it is an open tour start from a node with a single degree\n",
    "    curr = min(path_graph.nodes,key=path_graph.degree) \n",
    "    path,visited = [curr],{curr}\n",
    "    while len(path)<len(path_graph):\n",
    "        curr = (set(path_graph.neighbors(curr))-visited).pop()\n",
    "        visited.add(curr)\n",
    "        path.append(curr)\n",
    "    if closed_tour:\n",
    "        path.append(path[0])\n",
    "    return path"
   ]
  },
  {
   "cell_type": "code",
   "execution_count": null,
   "metadata": {},
   "outputs": [],
   "source": [
    "def shortest_edge_initialization(g,method=\"greedy\", closed_tour = False):\n",
    "    edge_list = set(g.edges)\n",
    "    times_visited  = defaultdict(int)\n",
    "    tour = set() \n",
    "    max_tour_len = len(g) if closed_tour else len(g)-1\n",
    "    key = nx.get_edge_attributes(g,\"weight\").get\n",
    "    while len(tour)<max_tour_len:\n",
    "        if method == \"greedy\":\n",
    "            # Note: this produces same result every time as there is no randomness\n",
    "            u,v = min(edge_list, key=key)\n",
    "        elif method == \"stochastic\":\n",
    "            u,v = select_stochastic(edge_list,key=key,inverse=True)\n",
    "        \n",
    "        times_visited[u]+=1\n",
    "        times_visited[v]+=1\n",
    "        tour.add((u,v))\n",
    "        \n",
    "        # removing edges that not satisfying the conditions\n",
    "        edge_list.remove((u,v))\n",
    "\n",
    "        for u,v in set(edge_list):\n",
    "            if (\n",
    "                # closed loop condition \n",
    "                (has_cycle(nx.Graph(tour|{(u,v)})) and len(tour) != len(g)-1) \n",
    "                # not more than two edges condition\n",
    "                or times_visited[u] ==2 or times_visited[v] ==2\n",
    "\n",
    "            ):\n",
    "                edge_list.remove((u,v))\n",
    "\n",
    "    return get_path_from_edges(tour,closed_tour=closed_tour)"
   ]
  },
  {
   "cell_type": "code",
   "execution_count": null,
   "metadata": {},
   "outputs": [],
   "source": [
    "np.random.seed(1)\n",
    "print(shortest_edge_initialization(g,method=\"greedy\"))\n",
    "print(shortest_edge_initialization(g,method=\"greedy\",closed_tour=True))\n",
    "print(shortest_edge_initialization(g,method=\"stochastic\"))\n",
    "print(shortest_edge_initialization(g,method=\"stochastic\",closed_tour=True))"
   ]
  },
  {
   "cell_type": "markdown",
   "metadata": {},
   "source": [
    "### Fitness function and selection"
   ]
  },
  {
   "cell_type": "code",
   "execution_count": null,
   "metadata": {},
   "outputs": [],
   "source": [
    "inv_path_length = lambda x: 1/nx.path_weight(g,x,\"weight\")\n",
    "path_length_func = lambda x: nx.path_weight(g,x,\"weight\")\n",
    "\n",
    "def roulette_wheel_selection(fitness_func,parents):\n",
    "    fitness = np.array(list(map(fitness_func,parents)))\n",
    "    path_length = np.array(list(map(path_length_func,parents)))\n",
    "    fitness = fitness/fitness.sum()\n",
    "    n = len(parents)\n",
    "    # print(np.hstack([np.array(parents),np.expand_dims(path_length,-1),np.expand_dims(fitness,-1)]))\n",
    "    return [parents[i] for i in np.random.choice(n,n,p=fitness)]"
   ]
  },
  {
   "cell_type": "markdown",
   "metadata": {},
   "source": [
    "### Fitness and Selection test"
   ]
  },
  {
   "cell_type": "code",
   "execution_count": null,
   "metadata": {},
   "outputs": [],
   "source": [
    "np.random.seed(1)\n",
    "n_population = 8\n",
    "population = [shortest_edge_initialization(g,method=\"stochastic\",closed_tour=True) for _ in range(n_population)]\n",
    "roulette_wheel_selection(inv_path_length,population)"
   ]
  },
  {
   "cell_type": "markdown",
   "metadata": {},
   "source": [
    "## Cross over"
   ]
  },
  {
   "cell_type": "markdown",
   "metadata": {},
   "source": [
    "### Partially Matched Crossover"
   ]
  },
  {
   "cell_type": "code",
   "execution_count": null,
   "metadata": {},
   "outputs": [],
   "source": [
    "def make_valid_tour(p,nodes):\n",
    "    unvisited = set(nodes)-set(p)\n",
    "    indices = defaultdict(list)\n",
    "    for i in range(len(p)):\n",
    "        indices[p[i]].append(i)\n",
    "    visited_twice = {node for node in indices if len(indices[node])==2}\n",
    "    for node in visited_twice:\n",
    "        change_index = np.random.choice(indices[node])\n",
    "        p[change_index] = unvisited.pop()\n",
    "    return p\n",
    "\n",
    "def partially_matched_crossover(p1,p2):\n",
    "    pt = np.random.randint(1,len(p1)-1) # crossover point\n",
    "    c1 = p1[:pt] + p2[pt:]\n",
    "    c2 = p2[:pt] + p1[pt:]\n",
    "    nodes = set(p1)\n",
    "    return make_valid_tour(c1,nodes),make_valid_tour(c2,nodes)"
   ]
  },
  {
   "cell_type": "markdown",
   "metadata": {},
   "source": [
    "### Testing partially matched crossover"
   ]
  },
  {
   "cell_type": "code",
   "execution_count": null,
   "metadata": {},
   "outputs": [],
   "source": [
    "np.random.seed(2)\n",
    "n_population = 8\n",
    "population = [shortest_edge_initialization(g,method=\"stochastic\",closed_tour=False) for _ in range(n_population)]\n",
    "selected_population =  roulette_wheel_selection(path_length_func,population)\n",
    "parents = selected_population[:2]\n",
    "print(parents)\n",
    "print(partially_matched_crossover(*parents))"
   ]
  },
  {
   "cell_type": "markdown",
   "metadata": {},
   "source": [
    "### Order Crossover"
   ]
  },
  {
   "cell_type": "code",
   "execution_count": null,
   "metadata": {},
   "outputs": [],
   "source": [
    "def order_crossover(p1,p2):\n",
    "    start = np.random.randint(0,len(p1)-1)\n",
    "    end = np.random.randint(start+1,len(p1) if start !=0 else len(p1)-1)\n",
    "    def fill_blanks(p1,p2,s,e):\n",
    "        \n",
    "        unvisited_nodes = p2.copy()\n",
    "        for node in p1[s:e]:\n",
    "            unvisited_nodes.remove(node)\n",
    "\n",
    "        c = p1.copy()\n",
    "        for i in range(len(p1)):\n",
    "            if i<s or i>=e:\n",
    "                c[i] = unvisited_nodes.pop(0)\n",
    "        return c\n",
    "\n",
    "    c1 = fill_blanks(p1,p2,start,end)\n",
    "    c2 = fill_blanks(p2,p1,start,end)\n",
    "    return c1,c2\n",
    "    "
   ]
  },
  {
   "cell_type": "markdown",
   "metadata": {},
   "source": [
    "### Testing Order crossover"
   ]
  },
  {
   "cell_type": "code",
   "execution_count": null,
   "metadata": {},
   "outputs": [],
   "source": [
    "np.random.seed(2)\n",
    "n_population = 8\n",
    "population = [shortest_edge_initialization(g,method=\"stochastic\",closed_tour=False) for _ in range(n_population)]\n",
    "selected_population =  roulette_wheel_selection(inv_path_length,population)\n",
    "parents = selected_population[:2]\n",
    "print(parents)\n",
    "print(order_crossover(*parents))"
   ]
  },
  {
   "cell_type": "markdown",
   "metadata": {},
   "source": [
    "## Mutation"
   ]
  },
  {
   "cell_type": "markdown",
   "metadata": {},
   "source": [
    "### Inversion"
   ]
  },
  {
   "cell_type": "code",
   "execution_count": null,
   "metadata": {},
   "outputs": [],
   "source": [
    "def inversion_mutation(p):\n",
    "    start = np.random.randint(0,len(p)-1)\n",
    "    end = np.random.randint(start+1,len(p)+1)\n",
    "    subtour = p[start:end]\n",
    "    c = p.copy()\n",
    "    for i in range(start,end):\n",
    "        c[i] = subtour.pop()\n",
    "    return c"
   ]
  },
  {
   "cell_type": "markdown",
   "metadata": {},
   "source": [
    "### Testing Inversion Mutation"
   ]
  },
  {
   "cell_type": "code",
   "execution_count": null,
   "metadata": {},
   "outputs": [],
   "source": [
    "np.random.seed(3)\n",
    "n_population = 8\n",
    "population = [shortest_edge_initialization(g,method=\"stochastic\",closed_tour=False) for _ in range(n_population)]\n",
    "subject = population[0]\n",
    "print(subject,inversion_mutation(subject))"
   ]
  },
  {
   "cell_type": "markdown",
   "metadata": {},
   "source": [
    "### Insertion"
   ]
  },
  {
   "cell_type": "code",
   "execution_count": null,
   "metadata": {},
   "outputs": [],
   "source": [
    "def insertion_mutation(p):\n",
    "    i = np.random.randint(1,len(p))\n",
    "    k = np.random.randint(0,len(p)-1)\n",
    "    c = p.copy()\n",
    "    c.insert(k,c.pop(i))\n",
    "    return c"
   ]
  },
  {
   "cell_type": "markdown",
   "metadata": {},
   "source": [
    "### Testing Insertion Mutation"
   ]
  },
  {
   "cell_type": "code",
   "execution_count": null,
   "metadata": {},
   "outputs": [],
   "source": [
    "# np.random.seed(2)\n",
    "n_population = 8\n",
    "population = [shortest_edge_initialization(g,method=\"stochastic\",closed_tour=False) for _ in range(n_population)]\n",
    "subject = population[0]\n",
    "print(subject,insertion_mutation(subject))"
   ]
  },
  {
   "cell_type": "markdown",
   "metadata": {},
   "source": [
    "## Genetic Algorithm for TSP"
   ]
  },
  {
   "cell_type": "code",
   "execution_count": null,
   "metadata": {},
   "outputs": [],
   "source": [
    "def ga_for_tsp(\n",
    "    g,\n",
    "    n_pop,\n",
    "    initialization,\n",
    "    selection,\n",
    "    crossover,\n",
    "    mutation,\n",
    "    p_mut,\n",
    "    n_iter\n",
    "):\n",
    "    population = [initialization(g) for _ in range(n_pop)]\n",
    "    fitness_func = lambda x:1/nx.path_weight(g,x,\"weight\")\n",
    "\n",
    "    for i in range(n_iter):\n",
    "        parents = selection(fitness_func,population)\n",
    "        children = parents.copy()\n",
    "        for i in range(0,n_pop,2):\n",
    "            children[i],children[i+1] = crossover(parents[i],parents[i+1])\n",
    "        for i in range(n_pop):\n",
    "            if np.random.random()<p_mut:\n",
    "                children[i] = mutation(children[i])\n",
    "        \n",
    "        \n",
    "        best = max(set(map(tuple,population))|set(map(tuple,children)),key=fitness_func)\n",
    "        best_score = fitness_func(best)\n",
    "        print(\"overall best:\",best,1/best_score)\n",
    "        \n",
    "        # remove the worst child and insert the overall best to it\n",
    "        worst_child = list(min(set(map(tuple,children))))\n",
    "        children.remove(worst_child)\n",
    "        children.append(list(best))\n",
    "        \n",
    "        population = children.copy()\n",
    "        \n",
    "    return best,best_score\n",
    "        "
   ]
  },
  {
   "cell_type": "code",
   "execution_count": null,
   "metadata": {},
   "outputs": [],
   "source": [
    "np.random.seed(2)\n",
    "best,best_score = ga_for_tsp(\n",
    "    g,\n",
    "    n_pop = 10,\n",
    "    initialization =lambda x: nearest_neighbour_initialization(x,method=\"stochastic\",closed_tour=False),\n",
    "    selection =roulette_wheel_selection,\n",
    "    crossover = partially_matched_crossover,\n",
    "    mutation = inversion_mutation,\n",
    "    p_mut=.1,\n",
    "    n_iter = 20\n",
    ")\n",
    "print(best,1/best_score)"
   ]
  },
  {
   "cell_type": "code",
   "execution_count": null,
   "metadata": {},
   "outputs": [],
   "source": [
    "plot_graph(g,\"Best Solution Found By GA\",nx.path_graph(best).edges)"
   ]
  },
  {
   "cell_type": "code",
   "execution_count": null,
   "metadata": {},
   "outputs": [],
   "source": []
  }
 ],
 "metadata": {
  "kernelspec": {
   "display_name": "Python 3.10.7 64-bit",
   "language": "python",
   "name": "python3"
  },
  "language_info": {
   "codemirror_mode": {
    "name": "ipython",
    "version": 3
   },
   "file_extension": ".py",
   "mimetype": "text/x-python",
   "name": "python",
   "nbconvert_exporter": "python",
   "pygments_lexer": "ipython3",
   "version": "3.10.7"
  },
  "orig_nbformat": 4,
  "vscode": {
   "interpreter": {
    "hash": "26de051ba29f2982a8de78e945f0abaf191376122a1563185a90213a26c5da77"
   }
  }
 },
 "nbformat": 4,
 "nbformat_minor": 2
}
