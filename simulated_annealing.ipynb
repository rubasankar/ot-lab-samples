{
 "cells": [
  {
   "cell_type": "code",
   "execution_count": null,
   "metadata": {},
   "outputs": [],
   "source": [
    "from numpy import asarray\n",
    "from numpy import exp\n",
    "from numpy.random import randn\n",
    "from numpy.random import rand\n",
    "from numpy.random import seed"
   ]
  },
  {
   "cell_type": "code",
   "execution_count": null,
   "metadata": {},
   "outputs": [],
   "source": [
    "def objective(x):\n",
    "\treturn x[0]**2.0"
   ]
  },
  {
   "cell_type": "code",
   "execution_count": null,
   "metadata": {},
   "outputs": [],
   "source": [
    "def simulated_annealing(objective, bounds, n_iterations, step_size, temp):\n",
    "\tbest = bounds[:, 0] + rand(len(bounds)) * (bounds[:, 1] - bounds[:, 0])\n",
    "\tbest_eval = objective(best)\n",
    "\tcurr, curr_eval = best, best_eval\n",
    "\tfor i in range(n_iterations):\n",
    "\t\tcandidate = curr + randn(len(bounds)) * step_size\n",
    "\t\tcandidate_eval = objective(candidate)\n",
    "\t\tif candidate_eval < best_eval:\n",
    "\t\t\tbest, best_eval = candidate, candidate_eval\n",
    "\t\t\tprint('>iteration %d: f(%s) = %.5f' % (i, best, best_eval))\n",
    "\t\tdiff = candidate_eval - curr_eval\n",
    "\t\tt = temp / float(i + 1)\n",
    "\t\tmetropolis = exp(-diff / t)\n",
    "\t\tif diff < 0 or rand() < metropolis:\n",
    "\t\t\tcurr, curr_eval = candidate, candidate_eval\n",
    "\treturn [best, best_eval]"
   ]
  },
  {
   "cell_type": "code",
   "execution_count": null,
   "metadata": {},
   "outputs": [],
   "source": [
    "seed(1)\n",
    "bounds = asarray([[-5.0, 5.0]])\n",
    "n_iterations = 1000\n",
    "step_size = 0.1\n",
    "temp = 10\n",
    "print('Starting simulated annealing algorithm\\n')\n",
    "best, score = simulated_annealing(objective, bounds, n_iterations, step_size, temp)\n",
    "print('\\nSimulated annealing completed\\n')\n",
    "print(f'Best solution: {best}')\n",
    "print(f'Fitness score of the best solution: {score:.5f}')"
   ]
  },
  {
   "cell_type": "code",
   "execution_count": null,
   "metadata": {},
   "outputs": [],
   "source": []
  }
 ],
 "metadata": {
  "kernelspec": {
   "display_name": "Python 3.10.7 64-bit",
   "language": "python",
   "name": "python3"
  },
  "language_info": {
   "codemirror_mode": {
    "name": "ipython",
    "version": 3
   },
   "file_extension": ".py",
   "mimetype": "text/x-python",
   "name": "python",
   "nbconvert_exporter": "python",
   "pygments_lexer": "ipython3",
   "version": "3.10.7"
  },
  "orig_nbformat": 4,
  "vscode": {
   "interpreter": {
    "hash": "26de051ba29f2982a8de78e945f0abaf191376122a1563185a90213a26c5da77"
   }
  }
 },
 "nbformat": 4,
 "nbformat_minor": 2
}
