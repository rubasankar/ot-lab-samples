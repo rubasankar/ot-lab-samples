{
 "cells": [
  {
   "cell_type": "code",
   "execution_count": 1,
   "metadata": {},
   "outputs": [],
   "source": [
    "from numpy.random import randint\n",
    "from numpy.random import rand"
   ]
  },
  {
   "cell_type": "code",
   "execution_count": 2,
   "metadata": {},
   "outputs": [],
   "source": [
    "def objective(x):\n",
    "\treturn x[0]**2.0 + x[1]**2.0"
   ]
  },
  {
   "cell_type": "code",
   "execution_count": 3,
   "metadata": {},
   "outputs": [],
   "source": [
    "def decode(bounds, n_bits, bitstring):\n",
    "\tdecoded = list()\n",
    "\tlargest = 2**n_bits\n",
    "\tfor i in range(len(bounds)):\n",
    "\t\tstart, end = i * n_bits, (i * n_bits)+n_bits\n",
    "\t\tsubstring = bitstring[start:end]\n",
    "\t\tchars = ''.join([str(s) for s in substring])\n",
    "\t\tinteger = int(chars, 2)\n",
    "\t\tvalue = bounds[i][0] + (integer/largest) * (bounds[i][1] - bounds[i][0])\n",
    "\t\tdecoded.append(value)\n",
    "\treturn decoded"
   ]
  },
  {
   "cell_type": "code",
   "execution_count": 4,
   "metadata": {},
   "outputs": [],
   "source": [
    "def selection(pop, scores, k=3):\n",
    "\tselection_ix = randint(len(pop))\n",
    "\tfor ix in randint(0, len(pop), k-1):\n",
    "\t\tif scores[ix] < scores[selection_ix]:\n",
    "\t\t\tselection_ix = ix\n",
    "\treturn pop[selection_ix]"
   ]
  },
  {
   "cell_type": "code",
   "execution_count": 5,
   "metadata": {},
   "outputs": [],
   "source": [
    "def crossover(p1, p2, r_cross):\n",
    "\tc1, c2 = p1.copy(), p2.copy()\n",
    "\tif rand() < r_cross:\n",
    "\t\tpt = randint(1, len(p1)-2)\n",
    "\t\tc1 = p1[:pt] + p2[pt:]\n",
    "\t\tc2 = p2[:pt] + p1[pt:]\n",
    "\treturn [c1, c2]"
   ]
  },
  {
   "cell_type": "code",
   "execution_count": 6,
   "metadata": {},
   "outputs": [],
   "source": [
    "def mutation(bitstring, r_mut):\n",
    "\tfor i in range(len(bitstring)):\n",
    "\t\tif rand() < r_mut:\n",
    "\t\t\tbitstring[i] = 1 - bitstring[i]"
   ]
  },
  {
   "cell_type": "code",
   "execution_count": 9,
   "metadata": {},
   "outputs": [],
   "source": [
    "def genetic_algorithm(objective, bounds, n_bits, n_iter, n_pop, r_cross, r_mut):\n",
    "\tpop = [randint(0, 2, n_bits*len(bounds)).tolist() for _ in range(n_pop)]\n",
    "\tbest, best_eval = 0, objective(decode(bounds, n_bits, pop[0]))\n",
    "\tfor gen in range(n_iter):\n",
    "\t\tdecoded = [decode(bounds, n_bits, p) for p in pop]\n",
    "\t\tscores = [objective(d) for d in decoded]\n",
    "\t\tfor i in range(n_pop):\n",
    "\t\t\tif scores[i] < best_eval:\n",
    "\t\t\t\tbest, best_eval = pop[i], scores[i]\n",
    "\t\t\t\tprint(\">iteration %d, new best (%s) = %f\" % (gen,  decoded[i], scores[i]))\n",
    "\t\tselected = [selection(pop, scores) for _ in range(n_pop)]\n",
    "\t\tchildren = list()\n",
    "\t\tfor i in range(0, n_pop, 2):\n",
    "\t\t\tp1, p2 = selected[i], selected[i+1]\n",
    "\t\t\tfor c in crossover(p1, p2, r_cross):\n",
    "\t\t\t\tmutation(c, r_mut)\n",
    "\t\t\t\tchildren.append(c)\n",
    "\t\tpop = children\n",
    "\treturn [best, best_eval]"
   ]
  },
  {
   "cell_type": "code",
   "execution_count": null,
   "metadata": {},
   "outputs": [],
   "source": [
    "bounds = [[-5.0, 5.0], [-5.0, 5.0]]\n",
    "n_iter = 100\n",
    "n_bits = 16\n",
    "n_pop = 100\n",
    "r_cross = 0.9\n",
    "r_mut = 1.0 / (float(n_bits) * len(bounds)) #0.03125\n",
    "print(f'Starting genetic algorithm\\n')\n",
    "best, score = genetic_algorithm(objective, bounds, n_bits, n_iter, n_pop, r_cross, r_mut)\n",
    "decoded = decode(bounds, n_bits, best)\n",
    "print(f'\\nGenetic algorithm completed\\n')\n",
    "print(f'Best solution: {decoded}')\n",
    "print(f'Fitness score of the best solution: {score:.5f}')"
   ]
  },
  {
   "cell_type": "code",
   "execution_count": null,
   "metadata": {},
   "outputs": [],
   "source": []
  }
 ],
 "metadata": {
  "kernelspec": {
   "display_name": "Python 3.10.7 64-bit",
   "language": "python",
   "name": "python3"
  },
  "language_info": {
   "codemirror_mode": {
    "name": "ipython",
    "version": 3
   },
   "file_extension": ".py",
   "mimetype": "text/x-python",
   "name": "python",
   "nbconvert_exporter": "python",
   "pygments_lexer": "ipython3",
   "version": "3.10.7"
  },
  "orig_nbformat": 4,
  "vscode": {
   "interpreter": {
    "hash": "26de051ba29f2982a8de78e945f0abaf191376122a1563185a90213a26c5da77"
   }
  }
 },
 "nbformat": 4,
 "nbformat_minor": 2
}
