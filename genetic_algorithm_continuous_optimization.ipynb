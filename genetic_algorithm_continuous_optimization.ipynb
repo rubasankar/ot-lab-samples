{
 "cells": [
  {
   "cell_type": "code",
   "execution_count": 1,
   "metadata": {},
   "outputs": [],
   "source": [
    "from numpy.random import randint\n",
    "from numpy.random import rand"
   ]
  },
  {
   "cell_type": "code",
   "execution_count": 2,
   "metadata": {},
   "outputs": [],
   "source": [
    "def objective(x):\n",
    "\treturn x[0]**2.0 + x[1]**2.0"
   ]
  },
  {
   "cell_type": "code",
   "execution_count": 3,
   "metadata": {},
   "outputs": [],
   "source": [
    "def decode(bounds, n_bits, bitstring):\n",
    "\tdecoded = list()\n",
    "\tlargest = 2**n_bits\n",
    "\tfor i in range(len(bounds)):\n",
    "\t\t# extract the substring\n",
    "\t\tstart, end = i * n_bits, (i * n_bits)+n_bits\n",
    "\t\tsubstring = bitstring[start:end]\n",
    "\t\t# convert bitstring to a string of chars\n",
    "\t\tchars = ''.join([str(s) for s in substring])\n",
    "\t\t# convert string to integer\n",
    "\t\tinteger = int(chars, 2)\n",
    "\t\t# scale integer to desired range\n",
    "\t\tvalue = bounds[i][0] + (integer/largest) * (bounds[i][1] - bounds[i][0])\n",
    "\t\t# store\n",
    "\t\tdecoded.append(value)\n",
    "\treturn decoded"
   ]
  },
  {
   "cell_type": "code",
   "execution_count": 4,
   "metadata": {},
   "outputs": [],
   "source": [
    "def selection(pop, scores, k=3):\n",
    "\t# first random selection\n",
    "\tselection_ix = randint(len(pop))\n",
    "\tfor ix in randint(0, len(pop), k-1):\n",
    "\t\t# check if better (e.g. perform a tournament)\n",
    "\t\tif scores[ix] < scores[selection_ix]:\n",
    "\t\t\tselection_ix = ix\n",
    "\treturn pop[selection_ix]"
   ]
  },
  {
   "cell_type": "code",
   "execution_count": 5,
   "metadata": {},
   "outputs": [],
   "source": [
    "def crossover(p1, p2, r_cross):\n",
    "\t# children are copies of parents by default\n",
    "\tc1, c2 = p1.copy(), p2.copy()\n",
    "\t# check for recombination\n",
    "\tif rand() < r_cross:\n",
    "\t\t# select crossover point that is not on the end of the string\n",
    "\t\tpt = randint(1, len(p1)-2)\n",
    "\t\t# perform crossover\n",
    "\t\tc1 = p1[:pt] + p2[pt:]\n",
    "\t\tc2 = p2[:pt] + p1[pt:]\n",
    "\treturn [c1, c2]"
   ]
  },
  {
   "cell_type": "code",
   "execution_count": 6,
   "metadata": {},
   "outputs": [],
   "source": [
    "def mutation(bitstring, r_mut):\n",
    "\tfor i in range(len(bitstring)):\n",
    "\t\t# check for a mutation\n",
    "\t\tif rand() < r_mut:\n",
    "\t\t\t# flip the bit\n",
    "\t\t\tbitstring[i] = 1 - bitstring[i]"
   ]
  },
  {
   "cell_type": "code",
   "execution_count": 9,
   "metadata": {},
   "outputs": [],
   "source": [
    "def genetic_algorithm(objective, bounds, n_bits, n_iter, n_pop, r_cross, r_mut):\n",
    "\t# initial population of random bitstring\n",
    "\tpop = [randint(0, 2, n_bits*len(bounds)).tolist() for _ in range(n_pop)]\n",
    "\t# keep track of best solution\n",
    "\tbest, best_eval = 0, objective(decode(bounds, n_bits, pop[0]))\n",
    "\t# enumerate generations\n",
    "\tfor gen in range(n_iter):\n",
    "\t\t# decode population\n",
    "\t\tdecoded = [decode(bounds, n_bits, p) for p in pop]\n",
    "\t\t# evaluate all candidates in the population\n",
    "\t\tscores = [objective(d) for d in decoded]\n",
    "\t\t# check for new best solution\n",
    "\t\tfor i in range(n_pop):\n",
    "\t\t\tif scores[i] < best_eval:\n",
    "\t\t\t\tbest, best_eval = pop[i], scores[i]\n",
    "\t\t\t\tprint(\">iteration %d, new best (%s) = %f\" % (gen,  decoded[i], scores[i]))\n",
    "\t\t# select parents\n",
    "\t\tselected = [selection(pop, scores) for _ in range(n_pop)]\n",
    "\t\t# create the next generation\n",
    "\t\tchildren = list()\n",
    "\t\tfor i in range(0, n_pop, 2):\n",
    "\t\t\t# get selected parents in pairs\n",
    "\t\t\tp1, p2 = selected[i], selected[i+1]\n",
    "\t\t\t# crossover and mutation\n",
    "\t\t\tfor c in crossover(p1, p2, r_cross):\n",
    "\t\t\t\t# mutation\n",
    "\t\t\t\tmutation(c, r_mut)\n",
    "\t\t\t\t# store for next generation\n",
    "\t\t\t\tchildren.append(c)\n",
    "\t\t# replace population\n",
    "\t\tpop = children\n",
    "\treturn [best, best_eval]"
   ]
  },
  {
   "cell_type": "code",
   "execution_count": 10,
   "metadata": {},
   "outputs": [
    {
     "name": "stdout",
     "output_type": "stream",
     "text": [
      "Starting genetic algorithm\n",
      "\n",
      ">iteration 0, new best ([0.869598388671875, -1.7596435546875]) = 3.852547\n",
      ">iteration 0, new best ([-1.92047119140625, 0.064849853515625]) = 3.692415\n",
      ">iteration 0, new best ([-0.301361083984375, -1.735687255859375]) = 3.103429\n",
      ">iteration 0, new best ([1.632843017578125, -0.437469482421875]) = 2.857556\n",
      ">iteration 0, new best ([-0.59600830078125, 0.048980712890625]) = 0.357625\n",
      ">iteration 1, new best ([-0.09063720703125, -0.091705322265625]) = 0.016625\n",
      ">iteration 2, new best ([-0.09063720703125, -0.081939697265625]) = 0.014929\n",
      ">iteration 3, new best ([-0.07843017578125, 0.039215087890625]) = 0.007689\n",
      ">iteration 4, new best ([0.02899169921875, 0.074310302734375]) = 0.006363\n",
      ">iteration 5, new best ([0.02899169921875, 0.054473876953125]) = 0.003808\n",
      ">iteration 6, new best ([-0.01312255859375, -0.01678466796875]) = 0.000454\n",
      ">iteration 8, new best ([-0.013580322265625, -0.00701904296875]) = 0.000234\n",
      ">iteration 13, new best ([-0.00823974609375, -0.01190185546875]) = 0.000210\n",
      ">iteration 13, new best ([-0.00823974609375, -0.009307861328125]) = 0.000155\n",
      ">iteration 15, new best ([-0.009918212890625, -0.00701904296875]) = 0.000148\n",
      ">iteration 15, new best ([-0.008087158203125, -0.00701904296875]) = 0.000115\n",
      ">iteration 15, new best ([-0.00823974609375, -0.00457763671875]) = 0.000089\n",
      ">iteration 17, new best ([-0.00335693359375, -0.00091552734375]) = 0.000012\n",
      ">iteration 19, new best ([-0.003204345703125, -0.00091552734375]) = 0.000011\n",
      ">iteration 21, new best ([-0.0018310546875, -0.00152587890625]) = 0.000006\n",
      ">iteration 26, new best ([-0.00091552734375, -0.00091552734375]) = 0.000002\n",
      ">iteration 28, new best ([-0.00030517578125, -0.00091552734375]) = 0.000001\n",
      ">iteration 30, new best ([-0.00030517578125, -0.00030517578125]) = 0.000000\n",
      ">iteration 35, new best ([-0.000152587890625, -0.00030517578125]) = 0.000000\n",
      ">iteration 40, new best ([-0.000152587890625, -0.000152587890625]) = 0.000000\n",
      "\n",
      "Genetic algorithm completed\n",
      "\n",
      "Best solution: [-0.000152587890625, -0.000152587890625]\n",
      "Fitness score of the best solution: 0.00000\n"
     ]
    }
   ],
   "source": [
    "bounds = [[-5.0, 5.0], [-5.0, 5.0]]\n",
    "# define the total iterations\n",
    "n_iter = 100\n",
    "# bits per variable\n",
    "n_bits = 16\n",
    "# define the population size\n",
    "n_pop = 100\n",
    "# crossover rate\n",
    "r_cross = 0.9\n",
    "# mutation rate\n",
    "r_mut = 1.0 / (float(n_bits) * len(bounds)) #0.03125\n",
    "# perform the genetic algorithm search\n",
    "print(f'Starting genetic algorithm\\n')\n",
    "best, score = genetic_algorithm(objective, bounds, n_bits, n_iter, n_pop, r_cross, r_mut)\n",
    "decoded = decode(bounds, n_bits, best)\n",
    "print(f'\\nGenetic algorithm completed\\n')\n",
    "print(f'Best solution: {decoded}')\n",
    "print(f'Fitness score of the best solution: {score:.5f}')"
   ]
  },
  {
   "cell_type": "code",
   "execution_count": null,
   "metadata": {},
   "outputs": [],
   "source": []
  }
 ],
 "metadata": {
  "kernelspec": {
   "display_name": "Python 3.10.7 64-bit",
   "language": "python",
   "name": "python3"
  },
  "language_info": {
   "codemirror_mode": {
    "name": "ipython",
    "version": 3
   },
   "file_extension": ".py",
   "mimetype": "text/x-python",
   "name": "python",
   "nbconvert_exporter": "python",
   "pygments_lexer": "ipython3",
   "version": "3.10.7"
  },
  "orig_nbformat": 4,
  "vscode": {
   "interpreter": {
    "hash": "26de051ba29f2982a8de78e945f0abaf191376122a1563185a90213a26c5da77"
   }
  }
 },
 "nbformat": 4,
 "nbformat_minor": 2
}
