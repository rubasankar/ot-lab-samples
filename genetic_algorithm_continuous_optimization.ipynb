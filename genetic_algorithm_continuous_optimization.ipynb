{
 "cells": [
  {
   "cell_type": "code",
   "execution_count": 1,
   "metadata": {},
   "outputs": [],
   "source": [
    "from numpy.random import randint\n",
    "from numpy.random import rand"
   ]
  },
  {
   "cell_type": "code",
   "execution_count": 2,
   "metadata": {},
   "outputs": [],
   "source": [
    "def objective(x):\n",
    "\treturn x[0]**2.0 + x[1]**2.0"
   ]
  },
  {
   "cell_type": "code",
   "execution_count": 3,
   "metadata": {},
   "outputs": [],
   "source": [
    "def decode(bounds, n_bits, bitstring):\n",
    "\tdecoded = list()\n",
    "\tlargest = 2**n_bits\n",
    "\tfor i in range(len(bounds)):\n",
    "\t\tstart, end = i * n_bits, (i * n_bits)+n_bits\n",
    "\t\tsubstring = bitstring[start:end]\n",
    "\t\tchars = ''.join([str(s) for s in substring])\n",
    "\t\tinteger = int(chars, 2)\n",
    "\t\tvalue = bounds[i][0] + (integer/largest) * (bounds[i][1] - bounds[i][0])\n",
    "\t\tdecoded.append(value)\n",
    "\treturn decoded"
   ]
  },
  {
   "cell_type": "code",
   "execution_count": 4,
   "metadata": {},
   "outputs": [],
   "source": [
    "def selection(pop, scores, k=3):\n",
    "\tselection_ix = randint(len(pop))\n",
    "\tfor ix in randint(0, len(pop), k-1):\n",
    "\t\tif scores[ix] < scores[selection_ix]:\n",
    "\t\t\tselection_ix = ix\n",
    "\treturn pop[selection_ix]"
   ]
  },
  {
   "cell_type": "code",
   "execution_count": 5,
   "metadata": {},
   "outputs": [],
   "source": [
    "def crossover(p1, p2, r_cross):\n",
    "\tc1, c2 = p1.copy(), p2.copy()\n",
    "\tif rand() < r_cross:\n",
    "\t\tpt = randint(1, len(p1)-2)\n",
    "\t\tc1 = p1[:pt] + p2[pt:]\n",
    "\t\tc2 = p2[:pt] + p1[pt:]\n",
    "\treturn [c1, c2]"
   ]
  },
  {
   "cell_type": "code",
   "execution_count": 6,
   "metadata": {},
   "outputs": [],
   "source": [
    "def mutation(bitstring, r_mut):\n",
    "\tfor i in range(len(bitstring)):\n",
    "\t\tif rand() < r_mut:\n",
    "\t\t\tbitstring[i] = 1 - bitstring[i]"
   ]
  },
  {
   "cell_type": "code",
   "execution_count": 7,
   "metadata": {},
   "outputs": [],
   "source": [
    "def genetic_algorithm(objective, bounds, n_bits, n_iter, n_pop, r_cross, r_mut):\n",
    "\tpop = [randint(0, 2, n_bits*len(bounds)).tolist() for _ in range(n_pop)]\n",
    "\tbest, best_eval = 0, objective(decode(bounds, n_bits, pop[0]))\n",
    "\tfor gen in range(n_iter):\n",
    "\t\tdecoded = [decode(bounds, n_bits, p) for p in pop]\n",
    "\t\tscores = [objective(d) for d in decoded]\n",
    "\t\tfor i in range(n_pop):\n",
    "\t\t\tif scores[i] < best_eval:\n",
    "\t\t\t\tbest, best_eval = pop[i], scores[i]\n",
    "\t\t\t\tprint(\">iteration %d, new best (%s) = %f\" % (gen,  decoded[i], scores[i]))\n",
    "\t\tselected = [selection(pop, scores) for _ in range(n_pop)]\n",
    "\t\tchildren = list()\n",
    "\t\tfor i in range(0, n_pop, 2):\n",
    "\t\t\tp1, p2 = selected[i], selected[i+1]\n",
    "\t\t\tfor c in crossover(p1, p2, r_cross):\n",
    "\t\t\t\tmutation(c, r_mut)\n",
    "\t\t\t\tchildren.append(c)\n",
    "\t\tpop = children\n",
    "\treturn [best, best_eval]"
   ]
  },
  {
   "cell_type": "code",
   "execution_count": 8,
   "metadata": {},
   "outputs": [
    {
     "name": "stdout",
     "output_type": "stream",
     "text": [
      "Starting genetic algorithm\n",
      "\n",
      ">iteration 0, new best ([4.9652099609375, -1.688995361328125]) = 27.506015\n",
      ">iteration 0, new best ([-0.493316650390625, 2.1966552734375]) = 5.068656\n",
      ">iteration 0, new best ([-2.0269775390625, -0.88287353515625]) = 4.888104\n",
      ">iteration 0, new best ([0.41351318359375, 1.781005859375]) = 3.342975\n",
      ">iteration 0, new best ([1.153717041015625, 1.33392333984375]) = 3.110414\n",
      ">iteration 0, new best ([-1.1492919921875, -0.639190673828125]) = 1.729437\n",
      ">iteration 0, new best ([0.32012939453125, 1.176605224609375]) = 1.486883\n",
      ">iteration 0, new best ([-0.17486572265625, -0.189208984375]) = 0.066378\n",
      ">iteration 2, new best ([-0.16754150390625, -0.06256103515625]) = 0.031984\n",
      ">iteration 3, new best ([0.04730224609375, -0.15228271484375]) = 0.025428\n",
      ">iteration 4, new best ([0.110626220703125, -0.063629150390625]) = 0.016287\n",
      ">iteration 4, new best ([0.080718994140625, 0.09002685546875]) = 0.014620\n",
      ">iteration 5, new best ([0.066070556640625, 0.09002685546875]) = 0.012470\n",
      ">iteration 5, new best ([0.061187744140625, 0.08575439453125]) = 0.011098\n",
      ">iteration 6, new best ([0.066375732421875, -0.081024169921875]) = 0.010971\n",
      ">iteration 6, new best ([0.061187744140625, 0.04791259765625]) = 0.006040\n",
      ">iteration 6, new best ([0.04730224609375, -0.051422119140625]) = 0.004882\n",
      ">iteration 6, new best ([0.066070556640625, 0.008544921875]) = 0.004438\n",
      ">iteration 7, new best ([0.061187744140625, 0.008544921875]) = 0.003817\n",
      ">iteration 9, new best ([0.04730224609375, -0.013427734375]) = 0.002418\n",
      ">iteration 9, new best ([0.046539306640625, 0.00030517578125]) = 0.002166\n",
      ">iteration 10, new best ([0.03326416015625, -0.013427734375]) = 0.001287\n",
      ">iteration 11, new best ([0.008392333984375, 0.006103515625]) = 0.000108\n",
      ">iteration 12, new best ([0.00823974609375, 0.00274658203125]) = 0.000075\n",
      ">iteration 12, new best ([0.008392333984375, 0.001220703125]) = 0.000072\n",
      ">iteration 13, new best ([0.00762939453125, 0.00030517578125]) = 0.000058\n",
      ">iteration 15, new best ([0.00579833984375, 0.001220703125]) = 0.000035\n",
      ">iteration 17, new best ([0.00274658203125, 0.0042724609375]) = 0.000026\n",
      ">iteration 18, new best ([0.00335693359375, 0.001220703125]) = 0.000013\n",
      ">iteration 21, new best ([0.00091552734375, 0.002288818359375]) = 0.000006\n",
      ">iteration 22, new best ([0.001068115234375, 0.001983642578125]) = 0.000005\n",
      ">iteration 23, new best ([0.000152587890625, 0.0018310546875]) = 0.000003\n",
      ">iteration 23, new best ([0.00091552734375, 0.00091552734375]) = 0.000002\n",
      ">iteration 25, new best ([0.00030517578125, 0.00091552734375]) = 0.000001\n",
      ">iteration 25, new best ([0.000152587890625, 0.00091552734375]) = 0.000001\n",
      ">iteration 28, new best ([0.0, 0.00091552734375]) = 0.000001\n",
      ">iteration 32, new best ([0.0006103515625, 0.000152587890625]) = 0.000000\n",
      ">iteration 33, new best ([0.0006103515625, 0.0]) = 0.000000\n",
      ">iteration 34, new best ([0.0, 0.0]) = 0.000000\n",
      "\n",
      "Genetic algorithm completed\n",
      "\n",
      "Best solution: [0.0, 0.0]\n",
      "Fitness score of the best solution: 0.00000\n"
     ]
    }
   ],
   "source": [
    "bounds = [[-5.0, 5.0], [-5.0, 5.0]]\n",
    "n_iter = 100\n",
    "n_bits = 16\n",
    "n_pop = 100\n",
    "r_cross = 0.9\n",
    "r_mut = 1.0 / (float(n_bits) * len(bounds)) #0.03125\n",
    "print(f'Starting genetic algorithm\\n')\n",
    "best, score = genetic_algorithm(objective, bounds, n_bits, n_iter, n_pop, r_cross, r_mut)\n",
    "decoded = decode(bounds, n_bits, best)\n",
    "print(f'\\nGenetic algorithm completed\\n')\n",
    "print(f'Best solution: {decoded}')\n",
    "print(f'Fitness score of the best solution: {score:.5f}')"
   ]
  },
  {
   "cell_type": "code",
   "execution_count": null,
   "metadata": {},
   "outputs": [],
   "source": []
  }
 ],
 "metadata": {
  "kernelspec": {
   "display_name": "Python 3.10.7 64-bit",
   "language": "python",
   "name": "python3"
  },
  "language_info": {
   "codemirror_mode": {
    "name": "ipython",
    "version": 3
   },
   "file_extension": ".py",
   "mimetype": "text/x-python",
   "name": "python",
   "nbconvert_exporter": "python",
   "pygments_lexer": "ipython3",
   "version": "3.10.7"
  },
  "orig_nbformat": 4,
  "vscode": {
   "interpreter": {
    "hash": "26de051ba29f2982a8de78e945f0abaf191376122a1563185a90213a26c5da77"
   }
  }
 },
 "nbformat": 4,
 "nbformat_minor": 2
}
